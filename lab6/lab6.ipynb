{
 "cells": [
  {
   "cell_type": "code",
   "execution_count": 1,
   "metadata": {},
   "outputs": [],
   "source": [
    "import pandas as pd"
   ]
  },
  {
   "cell_type": "code",
   "execution_count": 2,
   "metadata": {},
   "outputs": [],
   "source": [
    "df = pd.read_csv('PlayTennis.csv')"
   ]
  },
  {
   "cell_type": "code",
   "execution_count": 3,
   "metadata": {},
   "outputs": [
    {
     "data": {
      "text/plain": [
       "Yes    9\n",
       "No     5\n",
       "Name: Play, dtype: int64"
      ]
     },
     "execution_count": 3,
     "metadata": {},
     "output_type": "execute_result"
    }
   ],
   "source": [
    "counts = df['Play'].value_counts()\n",
    "counts"
   ]
  },
  {
   "cell_type": "code",
   "execution_count": 4,
   "metadata": {},
   "outputs": [
    {
     "name": "stdout",
     "output_type": "stream",
     "text": [
      "[0.6428571428571429, 0.35714285714285715]\n"
     ]
    }
   ],
   "source": [
    "prob = []\n",
    "for i in range(len(counts)):\n",
    "    prob.append(counts[i]/len(df))\n",
    "\n",
    "print(prob)"
   ]
  },
  {
   "cell_type": "code",
   "execution_count": 5,
   "metadata": {},
   "outputs": [
    {
     "data": {
      "text/plain": [
       "Index(['Outlook', 'Temperature', 'Humidity', 'Wind'], dtype='object')"
      ]
     },
     "execution_count": 5,
     "metadata": {},
     "output_type": "execute_result"
    }
   ],
   "source": [
    "columns = df.columns[:-1]\n",
    "columns"
   ]
  },
  {
   "cell_type": "code",
   "execution_count": 6,
   "metadata": {},
   "outputs": [],
   "source": [
    "prob = {}\n",
    "\n",
    "def func(col_n, col_item):\n",
    "    yes = len(df[(df['Play']=='Yes')&(df[col_n]== col_item)])/counts[0]\n",
    "    no = len(df[(df['Play']=='No')&(df[col_n]== col_item)])/counts[1]\n",
    "    return {col_n+col_item+'Yes': yes, col_n+col_item+'No': no}\n",
    "\n",
    "for i in columns:\n",
    "    items = df[i].unique()\n",
    "    for j in items:\n",
    "        new_prob = func(i,j)\n",
    "        prob.update(new_prob)"
   ]
  },
  {
   "cell_type": "code",
   "execution_count": 7,
   "metadata": {},
   "outputs": [
    {
     "data": {
      "text/plain": [
       "{'OutlookSunnyYes': 0.2222222222222222,\n",
       " 'OutlookSunnyNo': 0.6,\n",
       " 'OutlookOvercastYes': 0.4444444444444444,\n",
       " 'OutlookOvercastNo': 0.0,\n",
       " 'OutlookRainYes': 0.3333333333333333,\n",
       " 'OutlookRainNo': 0.4,\n",
       " 'TemperatureHotYes': 0.2222222222222222,\n",
       " 'TemperatureHotNo': 0.4,\n",
       " 'TemperatureMildYes': 0.4444444444444444,\n",
       " 'TemperatureMildNo': 0.4,\n",
       " 'TemperatureCoolYes': 0.3333333333333333,\n",
       " 'TemperatureCoolNo': 0.2,\n",
       " 'HumidityHighYes': 0.3333333333333333,\n",
       " 'HumidityHighNo': 0.8,\n",
       " 'HumidityNormalYes': 0.6666666666666666,\n",
       " 'HumidityNormalNo': 0.2,\n",
       " 'WindWeakYes': 0.6666666666666666,\n",
       " 'WindWeakNo': 0.4,\n",
       " 'WindStrongYes': 0.3333333333333333,\n",
       " 'WindStrongNo': 0.6}"
      ]
     },
     "execution_count": 7,
     "metadata": {},
     "output_type": "execute_result"
    }
   ],
   "source": [
    "prob"
   ]
  }
 ],
 "metadata": {
  "kernelspec": {
   "display_name": "Python 3",
   "language": "python",
   "name": "python3"
  },
  "language_info": {
   "codemirror_mode": {
    "name": "ipython",
    "version": 3
   },
   "file_extension": ".py",
   "mimetype": "text/x-python",
   "name": "python",
   "nbconvert_exporter": "python",
   "pygments_lexer": "ipython3",
   "version": "3.11.6"
  }
 },
 "nbformat": 4,
 "nbformat_minor": 2
}
