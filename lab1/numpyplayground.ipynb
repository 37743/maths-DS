{
 "cells": [
  {
   "cell_type": "code",
   "execution_count": 1,
   "metadata": {},
   "outputs": [],
   "source": [
    "import numpy as np"
   ]
  },
  {
   "cell_type": "markdown",
   "metadata": {},
   "source": [
    "## Task 0"
   ]
  },
  {
   "cell_type": "code",
   "execution_count": 39,
   "metadata": {},
   "outputs": [
    {
     "name": "stdout",
     "output_type": "stream",
     "text": [
      "\n",
      " 1. \tDimension: 0\n",
      "\tShape: ()\n",
      "\tSize: 1\n",
      "---------------------\n",
      "Array:\n",
      "10\n",
      "\n",
      " 2. \tDimension: 1\n",
      "\tShape: (2,)\n",
      "\tSize: 2\n",
      "---------------------\n",
      "Array:\n",
      "[10 20]\n",
      "\n",
      " 3. \tDimension: 2\n",
      "\tShape: (2, 2)\n",
      "\tSize: 4\n",
      "---------------------\n",
      "Array:\n",
      "[[1 2]\n",
      " [3 4]]\n"
     ]
    }
   ],
   "source": [
    "d1 = np.array(10)\n",
    "d2 = np.array([10,20])\n",
    "d3 = np.array([[1,2],[3,4]])\n",
    "\n",
    "d = [d1,d2,d3]\n",
    "\n",
    "for i,obj in enumerate(d):\n",
    "    print(\"\\n {i}. \\tDimension: {dim}\".format(i=i+1, dim=obj.ndim) + '\\n'\n",
    "          \"\\tShape: {s}\".format(s=obj.shape) + '\\n' +\n",
    "          \"\\tSize: {sz}\".format(sz=obj.size) + '\\n' +\n",
    "           \"---------------------\\nArray:\\n\" + str(obj))"
   ]
  },
  {
   "cell_type": "markdown",
   "metadata": {},
   "source": [
    "# "
   ]
  },
  {
   "cell_type": "markdown",
   "metadata": {},
   "source": [
    "## Task 1"
   ]
  },
  {
   "cell_type": "code",
   "execution_count": 40,
   "metadata": {},
   "outputs": [
    {
     "name": "stdout",
     "output_type": "stream",
     "text": [
      "[[0. 0. 0. 0. 0. 0. 0. 0. 0. 0.]\n",
      " [1. 1. 1. 1. 1. 1. 1. 1. 1. 1.]\n",
      " [5. 5. 5. 5. 5. 5. 5. 5. 5. 5.]]\n"
     ]
    }
   ],
   "source": [
    "t1 = np.array([np.zeros(10),np.ones(10),np.ones(10)*5])\n",
    "print(t1)"
   ]
  },
  {
   "cell_type": "markdown",
   "metadata": {},
   "source": [
    "## Task 2"
   ]
  },
  {
   "cell_type": "code",
   "execution_count": 41,
   "metadata": {},
   "outputs": [
    {
     "name": "stdout",
     "output_type": "stream",
     "text": [
      "[30 31 32 33 34 35 36 37 38 39 40 41 42 43 44 45 46 47 48 49 50 51 52 53\n",
      " 54 55 56 57 58 59 60 61 62 63 64 65 66 67 68 69 70]\n"
     ]
    }
   ],
   "source": [
    "t2 = np.arange(30,71,1)\n",
    "print(t2)"
   ]
  },
  {
   "cell_type": "markdown",
   "metadata": {},
   "source": [
    "## Task 3"
   ]
  },
  {
   "cell_type": "code",
   "execution_count": 42,
   "metadata": {},
   "outputs": [
    {
     "name": "stdout",
     "output_type": "stream",
     "text": [
      "[30 32 34 36 38 40 42 44 46 48 50 52 54 56 58 60 62 64 66 68 70]\n"
     ]
    }
   ],
   "source": [
    "t3 = np.arange(30,71,2)\n",
    "print(t3)"
   ]
  },
  {
   "cell_type": "markdown",
   "metadata": {},
   "source": [
    "## Task 4"
   ]
  },
  {
   "cell_type": "code",
   "execution_count": 43,
   "metadata": {},
   "outputs": [
    {
     "name": "stdout",
     "output_type": "stream",
     "text": [
      "[11 25 36]\n",
      "\n",
      "[ 9 15 24]\n",
      "\n",
      "[ 10 100 180]\n",
      "\n",
      "[10.  4.  5.]\n",
      "\n"
     ]
    }
   ],
   "source": [
    "a1 = np.array([10,20,30])\n",
    "a2 = np.array([1,5,6])\n",
    "\n",
    "sum = a1+a2\n",
    "sub = a1-a2\n",
    "mul = a1*a2\n",
    "div = a1/a2\n",
    "\n",
    "obj = [sum,sub,mul,div]\n",
    "\n",
    "for i in obj:\n",
    "    print(str(i)+'\\n')"
   ]
  },
  {
   "cell_type": "code",
   "execution_count": 48,
   "metadata": {},
   "outputs": [
    {
     "name": "stdout",
     "output_type": "stream",
     "text": [
      "[[ 5  9]\n",
      " [25  6]]\n",
      "[[-1  5]\n",
      " [-5  4]]\n",
      "[[  6  14]\n",
      " [150   5]]\n",
      "[[0.66666667 3.5       ]\n",
      " [0.66666667 5.        ]]\n",
      "24\n",
      "2\n",
      "10\n"
     ]
    }
   ],
   "source": [
    "a1 = np.array([[2,7],[10,5]])\n",
    "a2 = np.array([[3,2],[15,1]])\n",
    "\n",
    "sum = np.add(a1,a2)\n",
    "sub = np.subtract(a1,a2)\n",
    "mul = np.multiply(a1,a2)\n",
    "div = np.divide(a1,a2)\n",
    "asum = np.sum(a1)\n",
    "amin = np.min(a1)\n",
    "amax = np.max(a1)\n",
    "\n",
    "obj = [sum,sub,mul,div,asum,amin,amax]\n",
    "\n",
    "for i in obj:\n",
    "    print(str(i)+'\\n')"
   ]
  }
 ],
 "metadata": {
  "kernelspec": {
   "display_name": "Python 3",
   "language": "python",
   "name": "python3"
  },
  "language_info": {
   "codemirror_mode": {
    "name": "ipython",
    "version": 3
   },
   "file_extension": ".py",
   "mimetype": "text/x-python",
   "name": "python",
   "nbconvert_exporter": "python",
   "pygments_lexer": "ipython3",
   "version": "3.11.5"
  }
 },
 "nbformat": 4,
 "nbformat_minor": 2
}
